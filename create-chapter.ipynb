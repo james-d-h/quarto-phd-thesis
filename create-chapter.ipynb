{
 "cells": [
  {
   "cell_type": "code",
   "execution_count": 5,
   "id": "f6c9276c-dfe9-4150-bc6f-ecad7a103eb3",
   "metadata": {},
   "outputs": [
    {
     "name": "stdout",
     "output_type": "stream",
     "text": [
      "Created new chapter folder: chapter-04\n"
     ]
    }
   ],
   "source": [
    "import os \n",
    "import re\n",
    "\n",
    "def generate_chapter_folder():\n",
    "    chapter_folders = [d for d in os.listdir('.') if re.match(r'chapter-\\d{2}', d)]\n",
    "    next_chapter_num = max([int(re.search(r'\\d{2}', f).group(0)) for f in chapter_folders]) + 1\n",
    "\n",
    "    chapter_folder = f\"chapter-{str(next_chapter_num).zfill(2)}\"\n",
    "    if not os.path.exists(chapter_folder):\n",
    "        os.makedirs(chapter_folder)\n",
    "\n",
    "    structure = [\n",
    "        f\"{chapter_folder}/_chapter-title.qmd\",\n",
    "        f\"{chapter_folder}/figs\",\n",
    "        f\"{chapter_folder}/images\",\n",
    "        f\"{chapter_folder}/notebooks\",\n",
    "        f\"{chapter_folder}/tables\",\n",
    "    ]\n",
    "\n",
    "    for path in structure:\n",
    "        if not os.path.exists(path):\n",
    "            if os.path.splitext(path)[1]:\n",
    "                open(path, \"w\").close()\n",
    "            else:\n",
    "                os.makedirs(path)\n",
    "\n",
    "    return chapter_folder\n",
    "\n",
    "if __name__ == '__main__':\n",
    "    root_path = '.'  # The root directory of your repository\n",
    "\n",
    "    # Example usage of generate_chapter_folder\n",
    "    new_chapter_folder = generate_chapter_folder()\n",
    "    print(f\"Created new chapter folder: {new_chapter_folder}\")"
   ]
  },
  {
   "cell_type": "code",
   "execution_count": null,
   "id": "03ce903a-7d87-468b-8c60-1cbab1b2f44a",
   "metadata": {},
   "outputs": [],
   "source": []
  }
 ],
 "metadata": {
  "kernelspec": {
   "display_name": "Python 3 (ipykernel)",
   "language": "python",
   "name": "python3"
  },
  "language_info": {
   "codemirror_mode": {
    "name": "ipython",
    "version": 3
   },
   "file_extension": ".py",
   "mimetype": "text/x-python",
   "name": "python",
   "nbconvert_exporter": "python",
   "pygments_lexer": "ipython3",
   "version": "3.10.9"
  }
 },
 "nbformat": 4,
 "nbformat_minor": 5
}
